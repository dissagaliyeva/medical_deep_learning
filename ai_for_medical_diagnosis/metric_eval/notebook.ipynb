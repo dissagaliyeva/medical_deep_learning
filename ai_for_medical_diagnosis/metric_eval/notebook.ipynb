{
 "cells": [
  {
   "cell_type": "markdown",
   "source": [
    "# Evaluation of Diagnostic Models\n",
    "\n",
    "Welcome to the second assignment of course 1. In this assignment, we will be working with the results of the X-ray classification model we developed in the previous assignment. In order to make the data processing a bit more manageable, we will be working with a subset of our training, and validation datasets. We will also use our manually labeled test dataset of 420 X-rays.\n",
    "\n",
    "As a reminder, our dataset contains X-rays from 14 different conditions diagnosable from an X-ray. We'll evaluate our performance on each of these classes using the classification metrics we learned in lecture.\n",
    "\n",
    "**By the end of this assignment you will learn about:**\n",
    "\n",
    "1. Accuracy\n",
    "2. Prevalence\n",
    "3. Specificity & Sensitivity\n",
    "4. PPV and NPV\n",
    "5. ROC curve and AUCROC (c-statistic)\n",
    "6. Confidence Intervals\n",
    "\n",
    "\n",
    "## Table of Contents\n",
    "\n",
    "- [1. Packages](#1)\n",
    "- [2. Overview](#2)\n",
    "- [3. Metrics](#3)\n",
    "    - [3.1 - True Positives, False Positives, True Negatives and False Negatives](#3-1)\n",
    "        - [Exercise 1 - true positives, false positives, true negatives, and false negatives](#ex-1)\n",
    "    - [3.2 - Accuracy](#3-2)\n",
    "        - [Exercise 2 - get_accuracy](#ex-2)\n",
    "    - [3.3 Prevalence](#3-3)\n",
    "        - [Exercise 3 - get_prevalence](#ex-3)\n",
    "    - [3.4 Sensitivity and Specificity](#3-4)\n",
    "        - [Exercise 4 - get_sensitivity and get_specificity](#ex-4)\n",
    "    - [3.5 PPV and NPV](#3-5)\n",
    "        - [Exercise 5 - get_ppv and get_npv](#ex-5)\n",
    "    - [3.6 ROC Curve](#3-6)\n",
    "- [4. Confidence Intervals](#4)\n",
    "- [5. Precision-Recall Curve](#5)\n",
    "- [6. F1 Score](#6)\n",
    "- [7. Calibration](#7)"
   ],
   "metadata": {
    "collapsed": false
   }
  },
  {
   "cell_type": "markdown",
   "source": [
    "<a name='1'></a>\n",
    "## 1. Packages\n",
    "\n",
    "In this assignment, we'll make use of the following packages:\n",
    "- [numpy](https://docs.scipy.org/doc/numpy/) is a popular library for scientific computing\n",
    "- [matplotlib](https://matplotlib.org/3.1.1/contents.html) is a plotting library compatible with numpy\n",
    "- [pandas](https://pandas.pydata.org/docs/) is what we'll use to manipulate our data\n",
    "- [sklearn](https://scikit-learn.org/stable/index.html) will be used to measure the performance of our model\n",
    "\n",
    "\n",
    "Run the next cell to import all the necessary packages as well as custom util functions."
   ],
   "metadata": {
    "collapsed": false
   }
  },
  {
   "cell_type": "code",
   "execution_count": 1,
   "metadata": {
    "collapsed": true
   },
   "outputs": [],
   "source": [
    "import numpy as np\n",
    "import matplotlib.pyplot as plt\n",
    "import pandas as pd\n",
    "\n",
    "import util\n",
    "from public_tests import *\n",
    "from test_utils import *"
   ]
  },
  {
   "cell_type": "markdown",
   "source": [
    "<a name='2'></a>\n",
    "## 2. Overview\n",
    "\n",
    "We'll go through our evaluation metrics in the following order.\n",
    "\n",
    "- Metrics\n",
    "  - TP, TN, FP, FN\n",
    "  - Accuracy\n",
    "  - Prevalence\n",
    "  - Sensitivity and Specificity\n",
    "  - PPV and NPV\n",
    "  - AUC\n",
    "- Confidence Intervals"
   ],
   "metadata": {
    "collapsed": false
   }
  },
  {
   "cell_type": "code",
   "execution_count": null,
   "outputs": [],
   "source": [],
   "metadata": {
    "collapsed": false,
    "pycharm": {
     "name": "#%%\n"
    }
   }
  }
 ],
 "metadata": {
  "kernelspec": {
   "display_name": "Python 3",
   "language": "python",
   "name": "python3"
  },
  "language_info": {
   "codemirror_mode": {
    "name": "ipython",
    "version": 2
   },
   "file_extension": ".py",
   "mimetype": "text/x-python",
   "name": "python",
   "nbconvert_exporter": "python",
   "pygments_lexer": "ipython2",
   "version": "2.7.6"
  }
 },
 "nbformat": 4,
 "nbformat_minor": 0
}