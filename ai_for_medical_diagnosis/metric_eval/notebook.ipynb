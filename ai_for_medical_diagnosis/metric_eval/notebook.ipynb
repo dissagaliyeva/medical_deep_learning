{
 "cells": [
  {
   "cell_type": "markdown",
   "source": [
    "# Evaluation of Diagnostic Models\n",
    "\n",
    "Welcome to the second assignment of course 1. In this assignment, we will be working with the results of the X-ray classification model we developed in the previous assignment. In order to make the data processing a bit more manageable, we will be working with a subset of our training, and validation datasets. We will also use our manually labeled test dataset of 420 X-rays.\n",
    "\n",
    "As a reminder, our dataset contains X-rays from 14 different conditions diagnosable from an X-ray. We'll evaluate our performance on each of these classes using the classification metrics we learned in lecture.\n",
    "\n",
    "**By the end of this assignment you will learn about:**\n",
    "\n",
    "1. Accuracy\n",
    "2. Prevalence\n",
    "3. Specificity & Sensitivity\n",
    "4. PPV and NPV\n",
    "5. ROC curve and AUCROC (c-statistic)\n",
    "6. Confidence Intervals\n",
    "\n",
    "\n",
    "## Table of Contents\n",
    "\n",
    "- [1. Packages](#1)\n",
    "- [2. Overview](#2)\n",
    "- [3. Metrics](#3)\n",
    "    - [3.1 - True Positives, False Positives, True Negatives and False Negatives](#3-1)\n",
    "        - [Exercise 1 - true positives, false positives, true negatives, and false negatives](#ex-1)\n",
    "    - [3.2 - Accuracy](#3-2)\n",
    "        - [Exercise 2 - get_accuracy](#ex-2)\n",
    "    - [3.3 Prevalence](#3-3)\n",
    "        - [Exercise 3 - get_prevalence](#ex-3)\n",
    "    - [3.4 Sensitivity and Specificity](#3-4)\n",
    "        - [Exercise 4 - get_sensitivity and get_specificity](#ex-4)\n",
    "    - [3.5 PPV and NPV](#3-5)\n",
    "        - [Exercise 5 - get_ppv and get_npv](#ex-5)\n",
    "    - [3.6 ROC Curve](#3-6)\n",
    "- [4. Confidence Intervals](#4)\n",
    "- [5. Precision-Recall Curve](#5)\n",
    "- [6. F1 Score](#6)\n",
    "- [7. Calibration](#7)"
   ],
   "metadata": {
    "collapsed": false
   }
  },
  {
   "cell_type": "markdown",
   "source": [
    "<a name='1'></a>\n",
    "## 1. Packages\n",
    "\n",
    "In this assignment, we'll make use of the following packages:\n",
    "- [numpy](https://docs.scipy.org/doc/numpy/) is a popular library for scientific computing\n",
    "- [matplotlib](https://matplotlib.org/3.1.1/contents.html) is a plotting library compatible with numpy\n",
    "- [pandas](https://pandas.pydata.org/docs/) is what we'll use to manipulate our data\n",
    "- [sklearn](https://scikit-learn.org/stable/index.html) will be used to measure the performance of our model\n",
    "\n",
    "\n",
    "Run the next cell to import all the necessary packages as well as custom util functions."
   ],
   "metadata": {
    "collapsed": false
   }
  },
  {
   "cell_type": "code",
   "execution_count": 1,
   "metadata": {
    "collapsed": true
   },
   "outputs": [],
   "source": [
    "import numpy as np\n",
    "import matplotlib.pyplot as plt\n",
    "import pandas as pd\n",
    "\n",
    "import util\n",
    "from public_tests import *\n",
    "from test_utils import *"
   ]
  },
  {
   "cell_type": "markdown",
   "source": [
    "<a name='2'></a>\n",
    "## 2. Overview\n",
    "\n",
    "We'll go through our evaluation metrics in the following order.\n",
    "\n",
    "- Metrics\n",
    "  - TP, TN, FP, FN\n",
    "  - Accuracy\n",
    "  - Prevalence\n",
    "  - Sensitivity and Specificity\n",
    "  - PPV and NPV\n",
    "  - AUC\n",
    "- Confidence Intervals"
   ],
   "metadata": {
    "collapsed": false
   }
  },
  {
   "cell_type": "code",
   "execution_count": 3,
   "outputs": [
    {
     "data": {
      "text/plain": "                  Image  Atelectasis  Cardiomegaly  Consolidation  Edema  \\\n28333  00008270_015.png            0             0              0      0   \n97164  00029855_001.png            1             0              0      0   \n4236   00001297_000.png            0             0              0      0   \n\n       Effusion  Emphysema  Fibrosis  Hernia  Infiltration  ...  \\\n28333         0          0         0       0             0  ...   \n97164         1          0         0       0             1  ...   \n4236          0          0         0       0             0  ...   \n\n       Infiltration_pred  Mass_pred  Nodule_pred  Atelectasis_pred  \\\n28333           0.531233   0.077701     0.254761          0.071555   \n97164           0.530278   0.316036     0.403122          0.801598   \n4236            0.253458   0.394017     0.414019          0.426408   \n\n       Pneumothorax_pred  Pleural_Thickening_pred  Pneumonia_pred  \\\n28333           0.031860                 0.125375        0.259928   \n97164           0.793361                 0.550383        0.497499   \n4236            0.203794                 0.625412        0.371834   \n\n       Fibrosis_pred  Edema_pred  Consolidation_pred  \n28333       0.171520    0.005386            0.079036  \n97164       0.176103    0.359178            0.698990  \n4236        0.693987    0.066478            0.258697  \n\n[3 rows x 31 columns]",
      "text/html": "<div>\n<style scoped>\n    .dataframe tbody tr th:only-of-type {\n        vertical-align: middle;\n    }\n\n    .dataframe tbody tr th {\n        vertical-align: top;\n    }\n\n    .dataframe thead th {\n        text-align: right;\n    }\n</style>\n<table border=\"1\" class=\"dataframe\">\n  <thead>\n    <tr style=\"text-align: right;\">\n      <th></th>\n      <th>Image</th>\n      <th>Atelectasis</th>\n      <th>Cardiomegaly</th>\n      <th>Consolidation</th>\n      <th>Edema</th>\n      <th>Effusion</th>\n      <th>Emphysema</th>\n      <th>Fibrosis</th>\n      <th>Hernia</th>\n      <th>Infiltration</th>\n      <th>...</th>\n      <th>Infiltration_pred</th>\n      <th>Mass_pred</th>\n      <th>Nodule_pred</th>\n      <th>Atelectasis_pred</th>\n      <th>Pneumothorax_pred</th>\n      <th>Pleural_Thickening_pred</th>\n      <th>Pneumonia_pred</th>\n      <th>Fibrosis_pred</th>\n      <th>Edema_pred</th>\n      <th>Consolidation_pred</th>\n    </tr>\n  </thead>\n  <tbody>\n    <tr>\n      <th>28333</th>\n      <td>00008270_015.png</td>\n      <td>0</td>\n      <td>0</td>\n      <td>0</td>\n      <td>0</td>\n      <td>0</td>\n      <td>0</td>\n      <td>0</td>\n      <td>0</td>\n      <td>0</td>\n      <td>...</td>\n      <td>0.531233</td>\n      <td>0.077701</td>\n      <td>0.254761</td>\n      <td>0.071555</td>\n      <td>0.031860</td>\n      <td>0.125375</td>\n      <td>0.259928</td>\n      <td>0.171520</td>\n      <td>0.005386</td>\n      <td>0.079036</td>\n    </tr>\n    <tr>\n      <th>97164</th>\n      <td>00029855_001.png</td>\n      <td>1</td>\n      <td>0</td>\n      <td>0</td>\n      <td>0</td>\n      <td>1</td>\n      <td>0</td>\n      <td>0</td>\n      <td>0</td>\n      <td>1</td>\n      <td>...</td>\n      <td>0.530278</td>\n      <td>0.316036</td>\n      <td>0.403122</td>\n      <td>0.801598</td>\n      <td>0.793361</td>\n      <td>0.550383</td>\n      <td>0.497499</td>\n      <td>0.176103</td>\n      <td>0.359178</td>\n      <td>0.698990</td>\n    </tr>\n    <tr>\n      <th>4236</th>\n      <td>00001297_000.png</td>\n      <td>0</td>\n      <td>0</td>\n      <td>0</td>\n      <td>0</td>\n      <td>0</td>\n      <td>0</td>\n      <td>0</td>\n      <td>0</td>\n      <td>0</td>\n      <td>...</td>\n      <td>0.253458</td>\n      <td>0.394017</td>\n      <td>0.414019</td>\n      <td>0.426408</td>\n      <td>0.203794</td>\n      <td>0.625412</td>\n      <td>0.371834</td>\n      <td>0.693987</td>\n      <td>0.066478</td>\n      <td>0.258697</td>\n    </tr>\n  </tbody>\n</table>\n<p>3 rows × 31 columns</p>\n</div>"
     },
     "execution_count": 3,
     "metadata": {},
     "output_type": "execute_result"
    }
   ],
   "source": [
    "train = pd.read_csv('data/train_preds.csv', index_col=0)\n",
    "valid = pd.read_csv('data/valid_preds.csv', index_col=0)\n",
    "\n",
    "train.head(3)"
   ],
   "metadata": {
    "collapsed": false,
    "pycharm": {
     "name": "#%%\n"
    }
   }
  },
  {
   "cell_type": "code",
   "execution_count": 4,
   "outputs": [
    {
     "data": {
      "text/plain": "['Cardiomegaly_pred',\n 'Emphysema_pred',\n 'Effusion_pred',\n 'Hernia_pred',\n 'Infiltration_pred',\n 'Mass_pred',\n 'Nodule_pred',\n 'Atelectasis_pred',\n 'Pneumothorax_pred',\n 'Pleural_Thickening_pred',\n 'Pneumonia_pred',\n 'Fibrosis_pred',\n 'Edema_pred',\n 'Consolidation_pred']"
     },
     "execution_count": 4,
     "metadata": {},
     "output_type": "execute_result"
    }
   ],
   "source": [
    "# get the labels\n",
    "class_labels = [\n",
    "     'Cardiomegaly',\n",
    "     'Emphysema',\n",
    "     'Effusion',\n",
    "     'Hernia',\n",
    "     'Infiltration',\n",
    "     'Mass',\n",
    "     'Nodule',\n",
    "     'Atelectasis',\n",
    "     'Pneumothorax',\n",
    "     'Pleural_Thickening',\n",
    "     'Pneumonia',\n",
    "     'Fibrosis',\n",
    "     'Edema',\n",
    "     'Consolidation'\n",
    "]\n",
    "\n",
    "pred_labels = [l + '_pred' for l in class_labels]\n",
    "pred_labels"
   ],
   "metadata": {
    "collapsed": false,
    "pycharm": {
     "name": "#%%\n"
    }
   }
  },
  {
   "cell_type": "code",
   "execution_count": 6,
   "outputs": [
    {
     "data": {
      "text/plain": "      Cardiomegaly  Emphysema  Effusion  Hernia  Infiltration  Mass  Nodule  \\\n1685             0          0         0       0             0     0       0   \n1919             0          0         0       0             1     0       1   \n2048             0          0         0       0             0     0       0   \n\n      Atelectasis  Pneumothorax  Pleural_Thickening  ...  Infiltration_pred  \\\n1685            0             0                   0  ...           0.256020   \n1919            0             0                   0  ...           0.382199   \n2048            0             0                   0  ...           0.427727   \n\n      Mass_pred  Nodule_pred  Atelectasis_pred  Pneumothorax_pred  \\\n1685   0.266928     0.312440          0.460342           0.079453   \n1919   0.176825     0.465807          0.489424           0.084595   \n2048   0.115513     0.249030          0.035105           0.238761   \n\n      Pleural_Thickening_pred  Pneumonia_pred  Fibrosis_pred  Edema_pred  \\\n1685                 0.271495        0.276861       0.398799    0.015867   \n1919                 0.377317        0.363582       0.638024    0.025948   \n2048                 0.167095        0.166389       0.262463    0.007758   \n\n      Consolidation_pred  \n1685            0.156320  \n1919            0.144419  \n2048            0.125790  \n\n[3 rows x 28 columns]",
      "text/html": "<div>\n<style scoped>\n    .dataframe tbody tr th:only-of-type {\n        vertical-align: middle;\n    }\n\n    .dataframe tbody tr th {\n        vertical-align: top;\n    }\n\n    .dataframe thead th {\n        text-align: right;\n    }\n</style>\n<table border=\"1\" class=\"dataframe\">\n  <thead>\n    <tr style=\"text-align: right;\">\n      <th></th>\n      <th>Cardiomegaly</th>\n      <th>Emphysema</th>\n      <th>Effusion</th>\n      <th>Hernia</th>\n      <th>Infiltration</th>\n      <th>Mass</th>\n      <th>Nodule</th>\n      <th>Atelectasis</th>\n      <th>Pneumothorax</th>\n      <th>Pleural_Thickening</th>\n      <th>...</th>\n      <th>Infiltration_pred</th>\n      <th>Mass_pred</th>\n      <th>Nodule_pred</th>\n      <th>Atelectasis_pred</th>\n      <th>Pneumothorax_pred</th>\n      <th>Pleural_Thickening_pred</th>\n      <th>Pneumonia_pred</th>\n      <th>Fibrosis_pred</th>\n      <th>Edema_pred</th>\n      <th>Consolidation_pred</th>\n    </tr>\n  </thead>\n  <tbody>\n    <tr>\n      <th>1685</th>\n      <td>0</td>\n      <td>0</td>\n      <td>0</td>\n      <td>0</td>\n      <td>0</td>\n      <td>0</td>\n      <td>0</td>\n      <td>0</td>\n      <td>0</td>\n      <td>0</td>\n      <td>...</td>\n      <td>0.256020</td>\n      <td>0.266928</td>\n      <td>0.312440</td>\n      <td>0.460342</td>\n      <td>0.079453</td>\n      <td>0.271495</td>\n      <td>0.276861</td>\n      <td>0.398799</td>\n      <td>0.015867</td>\n      <td>0.156320</td>\n    </tr>\n    <tr>\n      <th>1919</th>\n      <td>0</td>\n      <td>0</td>\n      <td>0</td>\n      <td>0</td>\n      <td>1</td>\n      <td>0</td>\n      <td>1</td>\n      <td>0</td>\n      <td>0</td>\n      <td>0</td>\n      <td>...</td>\n      <td>0.382199</td>\n      <td>0.176825</td>\n      <td>0.465807</td>\n      <td>0.489424</td>\n      <td>0.084595</td>\n      <td>0.377317</td>\n      <td>0.363582</td>\n      <td>0.638024</td>\n      <td>0.025948</td>\n      <td>0.144419</td>\n    </tr>\n    <tr>\n      <th>2048</th>\n      <td>0</td>\n      <td>0</td>\n      <td>0</td>\n      <td>0</td>\n      <td>0</td>\n      <td>0</td>\n      <td>0</td>\n      <td>0</td>\n      <td>0</td>\n      <td>0</td>\n      <td>...</td>\n      <td>0.427727</td>\n      <td>0.115513</td>\n      <td>0.249030</td>\n      <td>0.035105</td>\n      <td>0.238761</td>\n      <td>0.167095</td>\n      <td>0.166389</td>\n      <td>0.262463</td>\n      <td>0.007758</td>\n      <td>0.125790</td>\n    </tr>\n  </tbody>\n</table>\n<p>3 rows × 28 columns</p>\n</div>"
     },
     "execution_count": 6,
     "metadata": {},
     "output_type": "execute_result"
    }
   ],
   "source": [
    "# Extract the labels (y) and the predictions (pred)\n",
    "y    = valid[class_labels].values\n",
    "pred = valid[pred_labels].values\n",
    "\n",
    "valid[np.concatenate([class_labels, pred_labels])].head(3)"
   ],
   "metadata": {
    "collapsed": false,
    "pycharm": {
     "name": "#%%\n"
    }
   }
  },
  {
   "cell_type": "code",
   "execution_count": 7,
   "outputs": [
    {
     "data": {
      "text/plain": "<Figure size 432x288 with 1 Axes>",
      "image/png": "[encoded data removed]"
     },
     "metadata": {
      "needs_background": "light"
     },
     "output_type": "display_data"
    }
   ],
   "source": [
    "plt.xticks(rotation=90)\n",
    "plt.bar(x = class_labels, height= y.sum(axis=0));"
   ],
   "metadata": {
    "collapsed": false,
    "pycharm": {
     "name": "#%%\n"
    }
   }
  },
  {
   "cell_type": "markdown",
   "source": [
    "It seem like our dataset has an imbalanced population of samples. Specifically, our dataset has a small number of patients diagnosed with a Hernia."
   ],
   "metadata": {
    "collapsed": false
   }
  },
  {
   "cell_type": "markdown",
   "source": [
    "<a name='3'></a>\n",
    "## 3. Metrics\n",
    "\n",
    "<a name='3-1'></a>\n",
    "### 3.1 True Positives, False Positives, True Negatives and False Negatives\n",
    "\n",
    "The most basic statistics to compute from the model predictions are the true positives, true negatives, false positives, and false negatives.\n",
    "\n",
    "As the name suggests\n",
    "- True Positive (TP): The model classifies the example as positive, and the actual label also positive.\n",
    "- False Positive (FP): The model classifies the example as positive, **but** the actual label is negative.\n",
    "- True Negative (TN): The model classifies the example as negative, and the actual label is also negative.\n",
    "- False Negative (FN): The model classifies the example as negative, **but** the label is actually positive.\n",
    "\n",
    "We will count the number of TP, FP, TN and FN in the given data.  All of our metrics can be built off of these four statistics.\n",
    "\n",
    "Recall that the model outputs real numbers between 0 and 1.\n",
    "* To compute binary class predictions, we need to convert these to either 0 or 1.\n",
    "* We'll do this using a threshold value $th$.\n",
    "* Any model outputs above $th$ are set to 1, and below $th$ are set to 0.\n",
    "\n",
    "All of our metrics (except for AUC at the end) will depend on the choice of this threshold.\n",
    "\n",
    "<a name='ex-1'></a>\n",
    "### Exercise 1 -  true positives, false positives, true negatives and false negatives\n",
    "\n",
    "Fill in the functions to compute the TP, FP, TN, and FN for a given threshold below.\n",
    "\n",
    "The first one has been done for you."
   ],
   "metadata": {
    "collapsed": false
   }
  },
  {
   "cell_type": "code",
   "execution_count": 8,
   "outputs": [],
   "source": [
    "# UNQ_C1 (UNIQUE CELL IDENTIFIER, DO NOT EDIT)\n",
    "def true_positives(y, pred, th=0.5):\n",
    "    \"\"\"\n",
    "    Count true positives.\n",
    "\n",
    "    Args:\n",
    "        y (np.array): ground truth, size (n_examples)\n",
    "        pred (np.array): model output, size (n_examples)\n",
    "        th (float): cutoff value for positive prediction from model\n",
    "    Returns:\n",
    "        TP (int): true positives\n",
    "    \"\"\"\n",
    "    TP = 0\n",
    "\n",
    "    # get thresholded predictions\n",
    "    thresholded_preds = pred >= th\n",
    "\n",
    "    # compute TP\n",
    "    TP = np.sum((y == 1) & (thresholded_preds == 1))\n",
    "\n",
    "    return TP\n",
    "\n",
    "def true_negatives(y, pred, th=0.5):\n",
    "    \"\"\"\n",
    "    Count true negatives.\n",
    "\n",
    "    Args:\n",
    "        y (np.array): ground truth, size (n_examples)\n",
    "        pred (np.array): model output, size (n_examples)\n",
    "        th (float): cutoff value for positive prediction from model\n",
    "    Returns:\n",
    "        TN (int): true negatives\n",
    "    \"\"\"\n",
    "    TN = 0\n",
    "\n",
    "    # get thresholded predictions\n",
    "    thresholded_preds = pred >= th\n",
    "\n",
    "    ### START CODE HERE (REPLACE INSTANCES OF 'None' with your code) ###\n",
    "\n",
    "    # compute TN\n",
    "    TN = np.sum((y == 0) & (thresholded_preds == 0))\n",
    "\n",
    "    ### END CODE HERE ###\n",
    "\n",
    "    return TN\n",
    "\n",
    "def false_positives(y, pred, th=0.5):\n",
    "    \"\"\"\n",
    "    Count false positives.\n",
    "\n",
    "    Args:\n",
    "        y (np.array): ground truth, size (n_examples)\n",
    "        pred (np.array): model output, size (n_examples)\n",
    "        th (float): cutoff value for positive prediction from model\n",
    "    Returns:\n",
    "        FP (int): false positives\n",
    "    \"\"\"\n",
    "    FP = 0\n",
    "\n",
    "    # get thresholded predictions\n",
    "    thresholded_preds = pred >= th\n",
    "\n",
    "    ### START CODE HERE (REPLACE INSTANCES OF 'None' with your code) ###\n",
    "\n",
    "    # compute FP\n",
    "    FP = np.sum((y == 0) & (thresholded_preds == 1))\n",
    "\n",
    "    ### END CODE HERE ###\n",
    "\n",
    "    return FP\n",
    "\n",
    "def false_negatives(y, pred, th=0.5):\n",
    "    \"\"\"\n",
    "    Count false positives.\n",
    "\n",
    "    Args:\n",
    "        y (np.array): ground truth, size (n_examples)\n",
    "        pred (np.array): model output, size (n_examples)\n",
    "        th (float): cutoff value for positive prediction from model\n",
    "    Returns:\n",
    "        FN (int): false negatives\n",
    "    \"\"\"\n",
    "    FN = 0\n",
    "\n",
    "    # get thresholded predictions\n",
    "    thresholded_preds = pred >= th\n",
    "\n",
    "    ### START CODE HERE (REPLACE INSTANCES OF 'None' with your code) ###\n",
    "\n",
    "    # compute FN\n",
    "    FN = np.sum((y == 1) & (thresholded_preds == 0))\n",
    "\n",
    "    ### END CODE HERE ###\n",
    "\n",
    "    return FN"
   ],
   "metadata": {
    "collapsed": false,
    "pycharm": {
     "name": "#%%\n"
    }
   }
  },
  {
   "cell_type": "code",
   "execution_count": 9,
   "outputs": [
    {
     "data": {
      "text/plain": "    y_test  preds_test category\n0        1         0.8       TP\n1        1         0.7       TP\n2        0         0.4       TN\n3        0         0.3       TN\n4        0         0.2       TN\n5        0         0.5       FP\n6        0         0.6       FP\n7        0         0.7       FP\n8        0         0.8       FP\n9        1         0.1       FN\n10       1         0.2       FN\n11       1         0.3       FN\n12       1         0.4       FN\n13       1         0.0       FN",
      "text/html": "<div>\n<style scoped>\n    .dataframe tbody tr th:only-of-type {\n        vertical-align: middle;\n    }\n\n    .dataframe tbody tr th {\n        vertical-align: top;\n    }\n\n    .dataframe thead th {\n        text-align: right;\n    }\n</style>\n<table border=\"1\" class=\"dataframe\">\n  <thead>\n    <tr style=\"text-align: right;\">\n      <th></th>\n      <th>y_test</th>\n      <th>preds_test</th>\n      <th>category</th>\n    </tr>\n  </thead>\n  <tbody>\n    <tr>\n      <th>0</th>\n      <td>1</td>\n      <td>0.8</td>\n      <td>TP</td>\n    </tr>\n    <tr>\n      <th>1</th>\n      <td>1</td>\n      <td>0.7</td>\n      <td>TP</td>\n    </tr>\n    <tr>\n      <th>2</th>\n      <td>0</td>\n      <td>0.4</td>\n      <td>TN</td>\n    </tr>\n    <tr>\n      <th>3</th>\n      <td>0</td>\n      <td>0.3</td>\n      <td>TN</td>\n    </tr>\n    <tr>\n      <th>4</th>\n      <td>0</td>\n      <td>0.2</td>\n      <td>TN</td>\n    </tr>\n    <tr>\n      <th>5</th>\n      <td>0</td>\n      <td>0.5</td>\n      <td>FP</td>\n    </tr>\n    <tr>\n      <th>6</th>\n      <td>0</td>\n      <td>0.6</td>\n      <td>FP</td>\n    </tr>\n    <tr>\n      <th>7</th>\n      <td>0</td>\n      <td>0.7</td>\n      <td>FP</td>\n    </tr>\n    <tr>\n      <th>8</th>\n      <td>0</td>\n      <td>0.8</td>\n      <td>FP</td>\n    </tr>\n    <tr>\n      <th>9</th>\n      <td>1</td>\n      <td>0.1</td>\n      <td>FN</td>\n    </tr>\n    <tr>\n      <th>10</th>\n      <td>1</td>\n      <td>0.2</td>\n      <td>FN</td>\n    </tr>\n    <tr>\n      <th>11</th>\n      <td>1</td>\n      <td>0.3</td>\n      <td>FN</td>\n    </tr>\n    <tr>\n      <th>12</th>\n      <td>1</td>\n      <td>0.4</td>\n      <td>FN</td>\n    </tr>\n    <tr>\n      <th>13</th>\n      <td>1</td>\n      <td>0.0</td>\n      <td>FN</td>\n    </tr>\n  </tbody>\n</table>\n</div>"
     },
     "metadata": {},
     "output_type": "display_data"
    },
    {
     "name": "stdout",
     "output_type": "stream",
     "text": [
      "Your functions calcualted: \n",
      "    TP: 2\n",
      "    TN: 3\n",
      "    FP: 4\n",
      "    FN: 5\n",
      "    \n",
      "\u001B[92m All tests passed.\n",
      "\u001B[92m All tests passed.\n",
      "\u001B[92m All tests passed.\n",
      "\u001B[92m All tests passed.\n"
     ]
    }
   ],
   "source": [
    "### do not modify this cell\n",
    "get_tp_tn_fp_fn_test(true_positives, true_negatives, false_positives, false_negatives)"
   ],
   "metadata": {
    "collapsed": false,
    "pycharm": {
     "name": "#%%\n"
    }
   }
  },
  {
   "cell_type": "code",
   "execution_count": null,
   "outputs": [],
   "source": [
    "util.get_performance_metrics(y, pred, class_labels)"
   ],
   "metadata": {
    "collapsed": false,
    "pycharm": {
     "name": "#%%\n"
    }
   }
  },
  {
   "cell_type": "code",
   "execution_count": null,
   "outputs": [],
   "source": [],
   "metadata": {
    "collapsed": false,
    "pycharm": {
     "name": "#%%\n"
    }
   }
  },
  {
   "cell_type": "code",
   "execution_count": null,
   "outputs": [],
   "source": [],
   "metadata": {
    "collapsed": false,
    "pycharm": {
     "name": "#%%\n"
    }
   }
  },
  {
   "cell_type": "code",
   "execution_count": null,
   "outputs": [],
   "source": [],
   "metadata": {
    "collapsed": false,
    "pycharm": {
     "name": "#%%\n"
    }
   }
  }
 ],
 "metadata": {
  "kernelspec": {
   "display_name": "Python 3",
   "language": "python",
   "name": "python3"
  },
  "language_info": {
   "codemirror_mode": {
    "name": "ipython",
    "version": 2
   },
   "file_extension": ".py",
   "mimetype": "text/x-python",
   "name": "python",
   "nbconvert_exporter": "python",
   "pygments_lexer": "ipython2",
   "version": "2.7.6"
  }
 },
 "nbformat": 4,
 "nbformat_minor": 0
}