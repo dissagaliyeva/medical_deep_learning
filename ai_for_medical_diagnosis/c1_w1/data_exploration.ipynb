{
 "cells": [
  {
   "cell_type": "markdown",
   "source": [
    "# Case Study: Data Preprocessing (Keras & PyTorch)\n",
    "\n",
    "In the first assignment of this course, you will work with chest x-ray images taken from the public [ChestX-ray8 dataset](https://arxiv.org/abs/1705.02315). In this notebook, you'll get a chance to explore this dataset and familiarize yourself with some of the techniques you'll use in the first graded assignment.\n",
    "\n",
    "<img src=\"images/xray-image.png\" alt=\"U-net Image\" width=\"300\" align=\"middle\"/>\n",
    "\n",
    "The first step before jumping into writing code for any machine learning project is to explore your data. A standard Python package for analyzing and manipulating data is [pandas](https://pandas.pydata.org/docs/#).\n",
    "\n",
    "With the next two code cells, you'll import `pandas` and a package called `numpy` for numerical manipulation, then use `pandas` to read a csv file into a dataframe and print out the first few rows of data."
   ],
   "metadata": {
    "collapsed": false
   }
  },
  {
   "cell_type": "code",
   "execution_count": 1,
   "metadata": {
    "collapsed": true
   },
   "outputs": [],
   "source": [
    "# Import necessary packages\n",
    "import pandas as pd\n",
    "import numpy as np\n",
    "import matplotlib.pyplot as plt\n",
    "\n",
    "import os\n",
    "import seaborn as sns\n",
    "\n",
    "# %matplotlib inline\n",
    "sns.set()"
   ]
  },
  {
   "cell_type": "markdown",
   "source": [
    "### Exploration"
   ],
   "metadata": {
    "collapsed": false
   }
  },
  {
   "cell_type": "code",
   "execution_count": 2,
   "outputs": [
    {
     "name": "stdout",
     "output_type": "stream",
     "text": [
      "There are 1000 rows & 16 columns\n"
     ]
    },
    {
     "data": {
      "text/plain": "              Image  Atelectasis  Cardiomegaly  Consolidation  Edema  \\\n0  00008270_015.png            0             0              0      0   \n1  00029855_001.png            1             0              0      0   \n2  00001297_000.png            0             0              0      0   \n\n   Effusion  Emphysema  Fibrosis  Hernia  Infiltration  Mass  Nodule  \\\n0         0          0         0       0             0     0       0   \n1         1          0         0       0             1     0       0   \n2         0          0         0       0             0     0       0   \n\n   PatientId  Pleural_Thickening  Pneumonia  Pneumothorax  \n0       8270                   0          0             0  \n1      29855                   0          0             0  \n2       1297                   1          0             0  ",
      "text/html": "<div>\n<style scoped>\n    .dataframe tbody tr th:only-of-type {\n        vertical-align: middle;\n    }\n\n    .dataframe tbody tr th {\n        vertical-align: top;\n    }\n\n    .dataframe thead th {\n        text-align: right;\n    }\n</style>\n<table border=\"1\" class=\"dataframe\">\n  <thead>\n    <tr style=\"text-align: right;\">\n      <th></th>\n      <th>Image</th>\n      <th>Atelectasis</th>\n      <th>Cardiomegaly</th>\n      <th>Consolidation</th>\n      <th>Edema</th>\n      <th>Effusion</th>\n      <th>Emphysema</th>\n      <th>Fibrosis</th>\n      <th>Hernia</th>\n      <th>Infiltration</th>\n      <th>Mass</th>\n      <th>Nodule</th>\n      <th>PatientId</th>\n      <th>Pleural_Thickening</th>\n      <th>Pneumonia</th>\n      <th>Pneumothorax</th>\n    </tr>\n  </thead>\n  <tbody>\n    <tr>\n      <th>0</th>\n      <td>00008270_015.png</td>\n      <td>0</td>\n      <td>0</td>\n      <td>0</td>\n      <td>0</td>\n      <td>0</td>\n      <td>0</td>\n      <td>0</td>\n      <td>0</td>\n      <td>0</td>\n      <td>0</td>\n      <td>0</td>\n      <td>8270</td>\n      <td>0</td>\n      <td>0</td>\n      <td>0</td>\n    </tr>\n    <tr>\n      <th>1</th>\n      <td>00029855_001.png</td>\n      <td>1</td>\n      <td>0</td>\n      <td>0</td>\n      <td>0</td>\n      <td>1</td>\n      <td>0</td>\n      <td>0</td>\n      <td>0</td>\n      <td>1</td>\n      <td>0</td>\n      <td>0</td>\n      <td>29855</td>\n      <td>0</td>\n      <td>0</td>\n      <td>0</td>\n    </tr>\n    <tr>\n      <th>2</th>\n      <td>00001297_000.png</td>\n      <td>0</td>\n      <td>0</td>\n      <td>0</td>\n      <td>0</td>\n      <td>0</td>\n      <td>0</td>\n      <td>0</td>\n      <td>0</td>\n      <td>0</td>\n      <td>0</td>\n      <td>0</td>\n      <td>1297</td>\n      <td>1</td>\n      <td>0</td>\n      <td>0</td>\n    </tr>\n  </tbody>\n</table>\n</div>"
     },
     "execution_count": 2,
     "metadata": {},
     "output_type": "execute_result"
    }
   ],
   "source": [
    "train_df = pd.read_csv('data/train-small.csv')\n",
    "\n",
    "# show first 5 rows\n",
    "print(f'There are {train_df.shape[0]} rows & {train_df.shape[1]} columns')\n",
    "train_df.head(3)"
   ],
   "metadata": {
    "collapsed": false,
    "pycharm": {
     "name": "#%%\n"
    }
   }
  },
  {
   "cell_type": "markdown",
   "source": [
    "In order to understand what to do with data, we need to investigate the columns thoroughly. Let's first find out which diseases are present and their occurrences.\n",
    "\n",
    "We see that there are several types of occurrences of fluids in lungs, therefore, we need to how many rows contain singular and multiple diseases."
   ],
   "metadata": {
    "collapsed": false
   }
  },
  {
   "cell_type": "code",
   "execution_count": 7,
   "outputs": [
    {
     "name": "stdout",
     "output_type": "stream",
     "text": [
      "['Atelectasis', 'Cardiomegaly', 'Consolidation', 'Edema', 'Effusion', 'Emphysema', 'Fibrosis', 'Hernia', 'Infiltration', 'Mass', 'Nodule', 'Pleural_Thickening', 'Pneumonia', 'Pneumothorax']\n"
     ]
    }
   ],
   "source": [
    "# check unique diseases\n",
    "columns = train_df.columns.tolist()\n",
    "\n",
    "# drop irrelevant values\n",
    "columns.remove('Image')\n",
    "columns.remove('PatientId')\n",
    "\n",
    "# show unique diseases\n",
    "print(columns)"
   ],
   "metadata": {
    "collapsed": false,
    "pycharm": {
     "name": "#%%\n"
    }
   }
  },
  {
   "cell_type": "code",
   "execution_count": 11,
   "outputs": [
    {
     "name": "stdout",
     "output_type": "stream",
     "text": [
      "The class Atelectasis has 106 samples\n",
      "The class Cardiomegaly has 20 samples\n",
      "The class Consolidation has 33 samples\n",
      "The class Edema has 16 samples\n",
      "The class Effusion has 128 samples\n",
      "The class Emphysema has 13 samples\n",
      "The class Fibrosis has 14 samples\n",
      "The class Hernia has 2 samples\n",
      "The class Infiltration has 175 samples\n",
      "The class Mass has 45 samples\n",
      "The class Nodule has 54 samples\n",
      "The class Pleural_Thickening has 21 samples\n",
      "The class Pneumonia has 10 samples\n",
      "The class Pneumothorax has 38 samples\n"
     ]
    }
   ],
   "source": [
    "# Print out the number of positive labels for each class\n",
    "for column in columns:\n",
    "    print(f\"The class {column} has {train_df[column].sum()} samples\")"
   ],
   "metadata": {
    "collapsed": false,
    "pycharm": {
     "name": "#%%\n"
    }
   }
  },
  {
   "cell_type": "code",
   "execution_count": 10,
   "outputs": [
    {
     "name": "stdout",
     "output_type": "stream",
     "text": [
      "Image                 0\n",
      "Atelectasis           0\n",
      "Cardiomegaly          0\n",
      "Consolidation         0\n",
      "Edema                 0\n",
      "Effusion              0\n",
      "Emphysema             0\n",
      "Fibrosis              0\n",
      "Hernia                0\n",
      "Infiltration          0\n",
      "Mass                  0\n",
      "Nodule                0\n",
      "PatientId             0\n",
      "Pleural_Thickening    0\n",
      "Pneumonia             0\n",
      "Pneumothorax          0\n",
      "dtype: int64\n",
      "<class 'pandas.core.frame.DataFrame'>\n",
      "RangeIndex: 1000 entries, 0 to 999\n",
      "Data columns (total 16 columns):\n",
      " #   Column              Non-Null Count  Dtype \n",
      "---  ------              --------------  ----- \n",
      " 0   Image               1000 non-null   object\n",
      " 1   Atelectasis         1000 non-null   int64 \n",
      " 2   Cardiomegaly        1000 non-null   int64 \n",
      " 3   Consolidation       1000 non-null   int64 \n",
      " 4   Edema               1000 non-null   int64 \n",
      " 5   Effusion            1000 non-null   int64 \n",
      " 6   Emphysema           1000 non-null   int64 \n",
      " 7   Fibrosis            1000 non-null   int64 \n",
      " 8   Hernia              1000 non-null   int64 \n",
      " 9   Infiltration        1000 non-null   int64 \n",
      " 10  Mass                1000 non-null   int64 \n",
      " 11  Nodule              1000 non-null   int64 \n",
      " 12  PatientId           1000 non-null   int64 \n",
      " 13  Pleural_Thickening  1000 non-null   int64 \n",
      " 14  Pneumonia           1000 non-null   int64 \n",
      " 15  Pneumothorax        1000 non-null   int64 \n",
      "dtypes: int64(15), object(1)\n",
      "memory usage: 125.1+ KB\n"
     ]
    }
   ],
   "source": [
    "# check the number of missing values\n",
    "print(train_df.isna().sum())\n",
    "\n",
    "# check the dataset\n",
    "train_df.info()"
   ],
   "metadata": {
    "collapsed": false,
    "pycharm": {
     "name": "#%%\n"
    }
   }
  },
  {
   "cell_type": "code",
   "execution_count": 15,
   "outputs": [
    {
     "name": "stdout",
     "output_type": "stream",
     "text": [
      "Series([], Name: 0, dtype: object)\n",
      "\n",
      "\n",
      "Atelectasis     1\n",
      "Effusion        1\n",
      "Infiltration    1\n",
      "Name: 1, dtype: object\n",
      "\n",
      "\n",
      "Pleural_Thickening    1\n",
      "Name: 2, dtype: object\n",
      "\n",
      "\n",
      "Series([], Name: 3, dtype: object)\n",
      "\n",
      "\n",
      "Infiltration    1\n",
      "Name: 4, dtype: object\n",
      "\n",
      "\n",
      "Atelectasis     1\n",
      "Cardiomegaly    1\n",
      "Effusion        1\n",
      "Infiltration    1\n",
      "Name: 5, dtype: object\n",
      "\n",
      "\n"
     ]
    }
   ],
   "source": [
    "def get_name(series):\n",
    "    name = series[series == 1]\n",
    "    print(name, end='\\n\\n\\n')\n",
    "\n",
    "# count instances\n",
    "normal_ids, normal_count = [], 0\n",
    "multi_ids, multi_count = [], 0\n",
    "\n",
    "# iterate the dataframe\n",
    "for idx, content in train_df.iterrows():\n",
    "    get_name(content)\n",
    "\n",
    "    if idx == 5:\n",
    "        break"
   ],
   "metadata": {
    "collapsed": false,
    "pycharm": {
     "name": "#%%\n"
    }
   }
  },
  {
   "cell_type": "code",
   "execution_count": 12,
   "outputs": [],
   "source": [],
   "metadata": {
    "collapsed": false,
    "pycharm": {
     "name": "#%%\n"
    }
   }
  },
  {
   "cell_type": "code",
   "execution_count": null,
   "outputs": [],
   "source": [],
   "metadata": {
    "collapsed": false,
    "pycharm": {
     "name": "#%%\n"
    }
   }
  }
 ],
 "metadata": {
  "kernelspec": {
   "display_name": "Python 3",
   "language": "python",
   "name": "python3"
  },
  "language_info": {
   "codemirror_mode": {
    "name": "ipython",
    "version": 2
   },
   "file_extension": ".py",
   "mimetype": "text/x-python",
   "name": "python",
   "nbconvert_exporter": "python",
   "pygments_lexer": "ipython2",
   "version": "2.7.6"
  }
 },
 "nbformat": 4,
 "nbformat_minor": 0
}