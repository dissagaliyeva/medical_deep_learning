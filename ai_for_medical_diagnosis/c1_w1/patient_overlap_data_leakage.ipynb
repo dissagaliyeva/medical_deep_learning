{
 "cells": [
  {
   "cell_type": "markdown",
   "source": [
    "# Patient Overlap and Data Leakage\n",
    "\n",
    "Patient overlap in medical data is a part of a more general problem in machine learning called **data leakage**.  To identify patient overlap in this week's graded assignment, you'll check to see if a patient's ID appears in both the training set and the test set. You should also verify that you don't have patient overlap in the training and validation sets, which is what you'll do here.\n",
    "\n",
    "Below is a simple example showing how you can check for and remove patient overlap in your training and validations sets."
   ],
   "metadata": {
    "collapsed": false
   }
  },
  {
   "cell_type": "code",
   "execution_count": 1,
   "metadata": {
    "collapsed": true
   },
   "outputs": [],
   "source": [
    "# Import necessary packages\n",
    "import pandas as pd\n",
    "import numpy as np\n",
    "import matplotlib.pyplot as plt\n",
    "\n",
    "import os\n",
    "import seaborn as sns\n",
    "sns.set()\n",
    "\n",
    "import warnings\n",
    "warnings.filterwarnings('ignore')"
   ]
  },
  {
   "cell_type": "markdown",
   "source": [
    "## 1. Data\n",
    "\n",
    "### 1.1 Loading the Data\n",
    "\n",
    "First, you'll read in your training and validation datasets from csv files. Run the next two cells to read these csvs into `pandas` dataframes."
   ],
   "metadata": {
    "collapsed": false
   }
  },
  {
   "cell_type": "code",
   "execution_count": 3,
   "outputs": [
    {
     "name": "stdout",
     "output_type": "stream",
     "text": [
      "There are 1000 rows & 16 features in the TRAINING set\n",
      "There are 109 rows  & 16 features in the VALIDATION set\n"
     ]
    }
   ],
   "source": [
    "train_df = pd.read_csv('data/train-small.csv')\n",
    "valid_df = pd.read_csv('data/valid-small.csv')\n",
    "\n",
    "print(f'There are {train_df.shape[0]} rows & {train_df.shape[1]} features in the TRAINING set')\n",
    "print(f'There are {valid_df.shape[0]} rows  & {valid_df.shape[1]} features in the VALIDATION set')"
   ],
   "metadata": {
    "collapsed": false,
    "pycharm": {
     "name": "#%%\n"
    }
   }
  },
  {
   "cell_type": "code",
   "execution_count": 4,
   "outputs": [
    {
     "data": {
      "text/plain": "              Image  Atelectasis  Cardiomegaly  Consolidation  Edema  \\\n0  00008270_015.png            0             0              0      0   \n1  00029855_001.png            1             0              0      0   \n2  00001297_000.png            0             0              0      0   \n\n   Effusion  Emphysema  Fibrosis  Hernia  Infiltration  Mass  Nodule  \\\n0         0          0         0       0             0     0       0   \n1         1          0         0       0             1     0       0   \n2         0          0         0       0             0     0       0   \n\n   PatientId  Pleural_Thickening  Pneumonia  Pneumothorax  \n0       8270                   0          0             0  \n1      29855                   0          0             0  \n2       1297                   1          0             0  ",
      "text/html": "<div>\n<style scoped>\n    .dataframe tbody tr th:only-of-type {\n        vertical-align: middle;\n    }\n\n    .dataframe tbody tr th {\n        vertical-align: top;\n    }\n\n    .dataframe thead th {\n        text-align: right;\n    }\n</style>\n<table border=\"1\" class=\"dataframe\">\n  <thead>\n    <tr style=\"text-align: right;\">\n      <th></th>\n      <th>Image</th>\n      <th>Atelectasis</th>\n      <th>Cardiomegaly</th>\n      <th>Consolidation</th>\n      <th>Edema</th>\n      <th>Effusion</th>\n      <th>Emphysema</th>\n      <th>Fibrosis</th>\n      <th>Hernia</th>\n      <th>Infiltration</th>\n      <th>Mass</th>\n      <th>Nodule</th>\n      <th>PatientId</th>\n      <th>Pleural_Thickening</th>\n      <th>Pneumonia</th>\n      <th>Pneumothorax</th>\n    </tr>\n  </thead>\n  <tbody>\n    <tr>\n      <th>0</th>\n      <td>00008270_015.png</td>\n      <td>0</td>\n      <td>0</td>\n      <td>0</td>\n      <td>0</td>\n      <td>0</td>\n      <td>0</td>\n      <td>0</td>\n      <td>0</td>\n      <td>0</td>\n      <td>0</td>\n      <td>0</td>\n      <td>8270</td>\n      <td>0</td>\n      <td>0</td>\n      <td>0</td>\n    </tr>\n    <tr>\n      <th>1</th>\n      <td>00029855_001.png</td>\n      <td>1</td>\n      <td>0</td>\n      <td>0</td>\n      <td>0</td>\n      <td>1</td>\n      <td>0</td>\n      <td>0</td>\n      <td>0</td>\n      <td>1</td>\n      <td>0</td>\n      <td>0</td>\n      <td>29855</td>\n      <td>0</td>\n      <td>0</td>\n      <td>0</td>\n    </tr>\n    <tr>\n      <th>2</th>\n      <td>00001297_000.png</td>\n      <td>0</td>\n      <td>0</td>\n      <td>0</td>\n      <td>0</td>\n      <td>0</td>\n      <td>0</td>\n      <td>0</td>\n      <td>0</td>\n      <td>0</td>\n      <td>0</td>\n      <td>0</td>\n      <td>1297</td>\n      <td>1</td>\n      <td>0</td>\n      <td>0</td>\n    </tr>\n  </tbody>\n</table>\n</div>"
     },
     "execution_count": 4,
     "metadata": {},
     "output_type": "execute_result"
    }
   ],
   "source": [
    "train_df.head(3)"
   ],
   "metadata": {
    "collapsed": false,
    "pycharm": {
     "name": "#%%\n"
    }
   }
  },
  {
   "cell_type": "code",
   "execution_count": 5,
   "outputs": [
    {
     "data": {
      "text/plain": "              Image  Atelectasis  Cardiomegaly  Consolidation  Edema  \\\n0  00027623_007.png            0             0              0      1   \n1  00028214_000.png            0             0              0      0   \n2  00022764_014.png            0             0              0      0   \n\n   Effusion  Emphysema  Fibrosis  Hernia  Infiltration  Mass  Nodule  \\\n0         1          0         0       0             0     0       0   \n1         0          0         0       0             0     0       0   \n2         0          0         0       0             0     0       0   \n\n   PatientId  Pleural_Thickening  Pneumonia  Pneumothorax  \n0      27623                   0          0             0  \n1      28214                   0          0             0  \n2      22764                   0          0             0  ",
      "text/html": "<div>\n<style scoped>\n    .dataframe tbody tr th:only-of-type {\n        vertical-align: middle;\n    }\n\n    .dataframe tbody tr th {\n        vertical-align: top;\n    }\n\n    .dataframe thead th {\n        text-align: right;\n    }\n</style>\n<table border=\"1\" class=\"dataframe\">\n  <thead>\n    <tr style=\"text-align: right;\">\n      <th></th>\n      <th>Image</th>\n      <th>Atelectasis</th>\n      <th>Cardiomegaly</th>\n      <th>Consolidation</th>\n      <th>Edema</th>\n      <th>Effusion</th>\n      <th>Emphysema</th>\n      <th>Fibrosis</th>\n      <th>Hernia</th>\n      <th>Infiltration</th>\n      <th>Mass</th>\n      <th>Nodule</th>\n      <th>PatientId</th>\n      <th>Pleural_Thickening</th>\n      <th>Pneumonia</th>\n      <th>Pneumothorax</th>\n    </tr>\n  </thead>\n  <tbody>\n    <tr>\n      <th>0</th>\n      <td>00027623_007.png</td>\n      <td>0</td>\n      <td>0</td>\n      <td>0</td>\n      <td>1</td>\n      <td>1</td>\n      <td>0</td>\n      <td>0</td>\n      <td>0</td>\n      <td>0</td>\n      <td>0</td>\n      <td>0</td>\n      <td>27623</td>\n      <td>0</td>\n      <td>0</td>\n      <td>0</td>\n    </tr>\n    <tr>\n      <th>1</th>\n      <td>00028214_000.png</td>\n      <td>0</td>\n      <td>0</td>\n      <td>0</td>\n      <td>0</td>\n      <td>0</td>\n      <td>0</td>\n      <td>0</td>\n      <td>0</td>\n      <td>0</td>\n      <td>0</td>\n      <td>0</td>\n      <td>28214</td>\n      <td>0</td>\n      <td>0</td>\n      <td>0</td>\n    </tr>\n    <tr>\n      <th>2</th>\n      <td>00022764_014.png</td>\n      <td>0</td>\n      <td>0</td>\n      <td>0</td>\n      <td>0</td>\n      <td>0</td>\n      <td>0</td>\n      <td>0</td>\n      <td>0</td>\n      <td>0</td>\n      <td>0</td>\n      <td>0</td>\n      <td>22764</td>\n      <td>0</td>\n      <td>0</td>\n      <td>0</td>\n    </tr>\n  </tbody>\n</table>\n</div>"
     },
     "execution_count": 5,
     "metadata": {},
     "output_type": "execute_result"
    }
   ],
   "source": [
    "valid_df.head(3)"
   ],
   "metadata": {
    "collapsed": false,
    "pycharm": {
     "name": "#%%\n"
    }
   }
  },
  {
   "cell_type": "markdown",
   "source": [
    "### 1.2 Extracting Patient IDs\n",
    "\n",
    "By running the next three cells you will do the following:\n",
    "1. Extract patient IDs from the train and validation sets"
   ],
   "metadata": {
    "collapsed": false
   }
  },
  {
   "cell_type": "code",
   "execution_count": 6,
   "outputs": [],
   "source": [
    "train_ids = train_df.PatientId.values\n",
    "valid_ids = valid_df.PatientId.values"
   ],
   "metadata": {
    "collapsed": false,
    "pycharm": {
     "name": "#%%\n"
    }
   }
  },
  {
   "cell_type": "markdown",
   "source": [
    "### 1.3 Comparing PatientIDs for Train & Validation Sets\n",
    "\n",
    "2. Convert these arrays of numbers into `set()` datatypes for easy comparison\n",
    "3. Identify patient overlap in the intersection of the two sets"
   ],
   "metadata": {
    "collapsed": false
   }
  },
  {
   "cell_type": "code",
   "execution_count": 8,
   "outputs": [
    {
     "name": "stdout",
     "output_type": "stream",
     "text": [
      "There are 11 intersections between train & validation sets\n",
      "The intersections are: {20290, 27618, 9925, 10888, 22764, 19981, 18253, 4461, 28208, 8760, 7482}\n"
     ]
    }
   ],
   "source": [
    "intersection = set(train_ids).intersection(set(valid_ids))\n",
    "print(f'There are {len(intersection)} intersections between train & validation sets')\n",
    "print(f'The intersections are: {intersection}')"
   ],
   "metadata": {
    "collapsed": false,
    "pycharm": {
     "name": "#%%\n"
    }
   }
  },
  {
   "cell_type": "markdown",
   "source": [
    "### 1.4 Identifying & Removing Overlapping Patients\n",
    "\n",
    "Run the next two cells to do the following:\n",
    "1. Create lists of the overlapping row numbers in both the training and validation sets.\n",
    "2. Drop the overlapping patient records from the validation set.\n",
    "\n",
    "**Note:** You could also choose to drop them from train set."
   ],
   "metadata": {
    "collapsed": false
   }
  },
  {
   "cell_type": "code",
   "execution_count": 10,
   "outputs": [
    {
     "name": "stdout",
     "output_type": "stream",
     "text": [
      "Train overlapping patients: [306, 186, 797, 98, 408, 917, 327, 913, 10, 51, 276]\n",
      "Validation overlapping patients: [104, 88, 65, 13, 2, 41, 56, 70, 26, 75, 20, 52, 55]\n"
     ]
    }
   ],
   "source": [
    "train_overlap = []\n",
    "valid_overlap = []\n",
    "\n",
    "for idx in range(len(intersection)):\n",
    "    train_overlap.extend(train_df.index[train_df['PatientId'] == list(intersection)[idx]].tolist())\n",
    "    valid_overlap.extend(valid_df.index[valid_df['PatientId'] == list(intersection)[idx]].tolist())\n",
    "\n",
    "print(f'Train overlapping patients: {train_overlap}')\n",
    "print(f'Validation overlapping patients: {valid_overlap}')"
   ],
   "metadata": {
    "collapsed": false,
    "pycharm": {
     "name": "#%%\n"
    }
   }
  },
  {
   "cell_type": "code",
   "execution_count": 11,
   "outputs": [],
   "source": [
    "valid_df.drop(valid_overlap, inplace=True)"
   ],
   "metadata": {
    "collapsed": false,
    "pycharm": {
     "name": "#%%\n"
    }
   }
  },
  {
   "cell_type": "code",
   "execution_count": 12,
   "outputs": [
    {
     "name": "stdout",
     "output_type": "stream",
     "text": [
      "Train overlapping patients: [306, 186, 797, 98, 408, 917, 327, 913, 10, 51, 276]\n",
      "Validation overlapping patients: []\n"
     ]
    }
   ],
   "source": [
    "train_overlap = []\n",
    "valid_overlap = []\n",
    "\n",
    "for idx in range(len(intersection)):\n",
    "    train_overlap.extend(train_df.index[train_df['PatientId'] == list(intersection)[idx]].tolist())\n",
    "    valid_overlap.extend(valid_df.index[valid_df['PatientId'] == list(intersection)[idx]].tolist())\n",
    "\n",
    "print(f'Train overlapping patients: {train_overlap}')\n",
    "print(f'Validation overlapping patients: {valid_overlap}')"
   ],
   "metadata": {
    "collapsed": false,
    "pycharm": {
     "name": "#%%\n"
    }
   }
  },
  {
   "cell_type": "markdown",
   "source": [
    "### 1.5 Sanity Check\n",
    "\n",
    "Check that everything worked as planned by rerunning the patient ID comparison between train and validation sets. When you run the next two cells you should see that there are now fewer records in the validation set and that the overlap problem has been removed!"
   ],
   "metadata": {
    "collapsed": false
   }
  },
  {
   "cell_type": "code",
   "execution_count": 13,
   "outputs": [
    {
     "name": "stdout",
     "output_type": "stream",
     "text": [
      "There are 86 unique Patient IDs in the training set\n"
     ]
    }
   ],
   "source": [
    "# Extract patient id's for the validation set\n",
    "ids_valid = valid_df.PatientId.values\n",
    "# Create a \"set\" datastructure of the validation set id's to identify unique id's\n",
    "ids_valid_set = set(ids_valid)\n",
    "print(f'There are {len(ids_valid_set)} unique Patient IDs in the training set')"
   ],
   "metadata": {
    "collapsed": false,
    "pycharm": {
     "name": "#%%\n"
    }
   }
  },
  {
   "cell_type": "code",
   "execution_count": 15,
   "outputs": [
    {
     "name": "stdout",
     "output_type": "stream",
     "text": [
      "There are 0 Patient IDs in both the training and validation sets\n"
     ]
    }
   ],
   "source": [
    "# Identify patient overlap by looking at the intersection between the sets\n",
    "patient_overlap = list(set(train_overlap).intersection(ids_valid_set))\n",
    "n_overlap = len(patient_overlap)\n",
    "print(f'There are {n_overlap} Patient IDs in both the training and validation sets')"
   ],
   "metadata": {
    "collapsed": false,
    "pycharm": {
     "name": "#%%\n"
    }
   }
  },
  {
   "cell_type": "code",
   "execution_count": 6,
   "outputs": [
    {
     "data": {
      "text/plain": "nan"
     },
     "execution_count": 6,
     "metadata": {},
     "output_type": "execute_result"
    }
   ],
   "source": [
    "preds = [[0.6],\n",
    "           [0.3],\n",
    "           [0.4]]\n",
    "\n",
    "y_true = np.array(\n",
    "        [[1],\n",
    "         [1],\n",
    "         [0]])\n",
    "\n",
    "\n",
    "-1 * np.sum(1/4 * y_true * np.log(y_true))"
   ],
   "metadata": {
    "collapsed": false,
    "pycharm": {
     "name": "#%%\n"
    }
   }
  },
  {
   "cell_type": "code",
   "execution_count": null,
   "outputs": [],
   "source": [],
   "metadata": {
    "collapsed": false,
    "pycharm": {
     "name": "#%%\n"
    }
   }
  }
 ],
 "metadata": {
  "kernelspec": {
   "display_name": "Python 3",
   "language": "python",
   "name": "python3"
  },
  "language_info": {
   "codemirror_mode": {
    "name": "ipython",
    "version": 2
   },
   "file_extension": ".py",
   "mimetype": "text/x-python",
   "name": "python",
   "nbconvert_exporter": "python",
   "pygments_lexer": "ipython2",
   "version": "2.7.6"
  }
 },
 "nbformat": 4,
 "nbformat_minor": 0
}